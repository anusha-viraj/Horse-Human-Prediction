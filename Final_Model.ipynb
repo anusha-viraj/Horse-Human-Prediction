{
 "cells": [
  {
   "cell_type": "code",
   "execution_count": 1,
   "metadata": {
    "colab": {},
    "colab_type": "code",
    "id": "5kotjr9uzE5u"
   },
   "outputs": [],
   "source": [
    "import tensorflow as tf\n",
    "import numpy as np\n",
    "from tensorflow.keras.optimizers import RMSprop\n",
    "from tensorflow.keras.preprocessing.image import ImageDataGenerator\n"
   ]
  },
  {
   "cell_type": "code",
   "execution_count": 2,
   "metadata": {
    "colab": {
     "base_uri": "https://localhost:8080/",
     "height": 125
    },
    "colab_type": "code",
    "id": "Nkce_W4-GHpr",
    "outputId": "ee2b63c9-9d3c-4771-8080-01c94380b7bd"
   },
   "outputs": [
    {
     "name": "stdout",
     "output_type": "stream",
     "text": [
      "Go to this URL in a browser: https://accounts.google.com/o/oauth2/auth?client_id=947318989803-6bn6qk8qdgf4n4g3pfee6491hc0brc4i.apps.googleusercontent.com&redirect_uri=urn%3aietf%3awg%3aoauth%3a2.0%3aoob&scope=email%20https%3a%2f%2fwww.googleapis.com%2fauth%2fdocs.test%20https%3a%2f%2fwww.googleapis.com%2fauth%2fdrive%20https%3a%2f%2fwww.googleapis.com%2fauth%2fdrive.photos.readonly%20https%3a%2f%2fwww.googleapis.com%2fauth%2fpeopleapi.readonly&response_type=code\n",
      "\n",
      "Enter your authorization code:\n",
      "··········\n",
      "Mounted at /content/drive\n"
     ]
    }
   ],
   "source": [
    "from google.colab import drive\n",
    "drive.mount('/content/drive')"
   ]
  },
  {
   "cell_type": "code",
   "execution_count": 3,
   "metadata": {
    "colab": {},
    "colab_type": "code",
    "id": "mxj7yH15zP1L"
   },
   "outputs": [],
   "source": [
    "#Define Path for train data and test data\n",
    "train_dir = 'drive/My Drive/PG AI ML/HumanHorseCNN/Train'\n",
    "test_dir = 'drive/My Drive/PG AI ML/HumanHorseCNN/Validation/'"
   ]
  },
  {
   "cell_type": "code",
   "execution_count": 4,
   "metadata": {
    "colab": {
     "base_uri": "https://localhost:8080/",
     "height": 52
    },
    "colab_type": "code",
    "id": "U4g2L4Nn0GZn",
    "outputId": "807e519f-75aa-4cc2-8393-2a6a7801789e"
   },
   "outputs": [
    {
     "name": "stdout",
     "output_type": "stream",
     "text": [
      "Found 1027 images belonging to 2 classes.\n",
      "Found 256 images belonging to 2 classes.\n"
     ]
    }
   ],
   "source": [
    "# All images will be rescaled by 1./255. The intensities will be in the range of 0 -255\n",
    "train_datagen = tf.keras.preprocessing.image.ImageDataGenerator( rescale = 1.0/255. )\n",
    "test_datagen  = tf.keras.preprocessing.image.ImageDataGenerator( rescale = 1.0/255. )\n",
    "\n",
    "# --------------------\n",
    "# Flow training images in batches of 20 using train_datagen generator\n",
    "# --------------------\n",
    "train_generator = train_datagen.flow_from_directory(train_dir,\n",
    "                                                    batch_size=20,\n",
    "                                                    class_mode='binary',\n",
    "                                                    target_size=(128, 128))   \n",
    "# --------------------\n",
    "# Flow validation images in batches of 20 using test_datagen generator\n",
    "# --------------------\n",
    "test_generator =  test_datagen.flow_from_directory(test_dir,\n",
    "                                                         batch_size=20,\n",
    "                                                         class_mode  = 'binary',\n",
    "                                                         target_size = (128, 128))"
   ]
  },
  {
   "cell_type": "code",
   "execution_count": 5,
   "metadata": {
    "colab": {},
    "colab_type": "code",
    "id": "J2CVCIoXFmoI"
   },
   "outputs": [],
   "source": [
    "# Initialising the CNN\n",
    "classifier = tf.keras.models.Sequential()\n",
    "\n",
    "# Step 1 - Convolution  #No of Feature Maps, Filter, color image with channel,\n",
    "classifier.add(tf.keras.layers.Conv2D(64, (3, 3), input_shape = (128, 128, 3), activation = 'relu'))\n",
    "\n",
    "# Step 2 - Pooling\n",
    "classifier.add(tf.keras.layers.MaxPooling2D(pool_size = (2, 2)))\n",
    "\n",
    "# Adding a second convolutional layer\n",
    "classifier.add(tf.keras.layers.Conv2D(64, (3, 3), activation = 'relu'))\n",
    "classifier.add(tf.keras.layers.MaxPooling2D(pool_size = (2, 2)))\n",
    "\n",
    "# Step 3 - Flattening\n",
    "classifier.add(tf.keras.layers.Flatten())\n",
    "\n",
    "# Step 4 - Full connection\n",
    "classifier.add(tf.keras.layers.Dropout(0.3))\n",
    "classifier.add(tf.keras.layers.Dense(units = 256, activation = 'relu' , kernel_regularizer=tf.keras.regularizers.l1(0.001)))\n",
    "classifier.add(tf.keras.layers.Dropout(0.3))\n",
    "classifier.add(tf.keras.layers.Dense(units = 256, activation = 'relu' , kernel_regularizer=tf.keras.regularizers.l1(0.001)))\n",
    "classifier.add(tf.keras.layers.Dense(units = 1, activation = 'sigmoid'))\n",
    "\n",
    "# Compiling the CNN\n",
    "classifier.compile(optimizer = tf.keras.optimizers.Nadam(learning_rate=0.01), loss = 'binary_crossentropy', metrics = ['accuracy'])"
   ]
  },
  {
   "cell_type": "code",
   "execution_count": 6,
   "metadata": {
    "colab": {},
    "colab_type": "code",
    "id": "X481LKgLR8qs"
   },
   "outputs": [],
   "source": [
    "#Custom Callback\n",
    "class MyThresholdCallback(tf.keras.callbacks.Callback):\n",
    " def __init__(self, cl):\n",
    "   super(MyThresholdCallback, self).__init__()\n",
    "   self.cl = cl\n",
    "\n",
    " def on_epoch_end(self, epoch, logs=None):\n",
    "   test_score = logs[\"val_accuracy\"]\n",
    "   train_score = logs[\"accuracy\"]\n",
    "   if test_score > train_score and test_score > self.cl:\n",
    "     self.model.stop_training = True"
   ]
  },
  {
   "cell_type": "code",
   "execution_count": 8,
   "metadata": {
    "colab": {
     "base_uri": "https://localhost:8080/",
     "height": 1000
    },
    "colab_type": "code",
    "id": "NQ9t3hc1Kjrs",
    "outputId": "4f84f5c1-d5fb-4163-daf0-ecaaebcfe935"
   },
   "outputs": [
    {
     "name": "stdout",
     "output_type": "stream",
     "text": [
      "Epoch 1/30\n",
      "50/50 - 12s - loss: 40.4329 - accuracy: 0.5127 - val_loss: 29.2855 - val_accuracy: 0.4917\n",
      "Epoch 2/30\n",
      "50/50 - 8s - loss: 40.7953 - accuracy: 0.5086 - val_loss: 29.5047 - val_accuracy: 0.5083\n",
      "Epoch 3/30\n",
      "50/50 - 8s - loss: 40.9199 - accuracy: 0.4762 - val_loss: 29.6295 - val_accuracy: 0.5000\n",
      "Epoch 4/30\n",
      "50/50 - 8s - loss: 40.9366 - accuracy: 0.5167 - val_loss: 29.6619 - val_accuracy: 0.5000\n",
      "Epoch 5/30\n",
      "50/50 - 7s - loss: 40.6026 - accuracy: 0.5106 - val_loss: 29.6915 - val_accuracy: 0.5000\n",
      "Epoch 6/30\n",
      "50/50 - 7s - loss: 40.5266 - accuracy: 0.5147 - val_loss: 29.6194 - val_accuracy: 0.5042\n",
      "Epoch 7/30\n",
      "50/50 - 7s - loss: 40.7112 - accuracy: 0.5167 - val_loss: 29.6037 - val_accuracy: 0.5125\n",
      "Epoch 8/30\n",
      "50/50 - 7s - loss: 40.3011 - accuracy: 0.5147 - val_loss: 29.5113 - val_accuracy: 0.4958\n",
      "Epoch 9/30\n",
      "50/50 - 7s - loss: 40.1652 - accuracy: 0.4995 - val_loss: 29.4416 - val_accuracy: 0.4917\n",
      "Epoch 10/30\n",
      "50/50 - 8s - loss: 40.0209 - accuracy: 0.5076 - val_loss: 29.3494 - val_accuracy: 0.5042\n",
      "Epoch 11/30\n",
      "50/50 - 8s - loss: 40.1507 - accuracy: 0.4843 - val_loss: 29.2581 - val_accuracy: 0.4917\n",
      "Epoch 12/30\n",
      "50/50 - 8s - loss: 39.9904 - accuracy: 0.5127 - val_loss: 29.1301 - val_accuracy: 0.4917\n",
      "Epoch 13/30\n",
      "50/50 - 8s - loss: 39.8255 - accuracy: 0.5167 - val_loss: 29.0627 - val_accuracy: 0.5042\n",
      "Epoch 14/30\n",
      "50/50 - 8s - loss: 39.3803 - accuracy: 0.5106 - val_loss: 28.9191 - val_accuracy: 0.4750\n",
      "Epoch 15/30\n",
      "50/50 - 8s - loss: 39.4873 - accuracy: 0.5086 - val_loss: 28.8225 - val_accuracy: 0.5000\n",
      "Epoch 16/30\n",
      "50/50 - 8s - loss: 39.3117 - accuracy: 0.4975 - val_loss: 28.7110 - val_accuracy: 0.5000\n",
      "Epoch 17/30\n",
      "50/50 - 8s - loss: 39.1373 - accuracy: 0.4863 - val_loss: 28.5961 - val_accuracy: 0.5042\n",
      "Epoch 18/30\n",
      "50/50 - 8s - loss: 38.6873 - accuracy: 0.5106 - val_loss: 28.4544 - val_accuracy: 0.4958\n",
      "Epoch 19/30\n",
      "50/50 - 8s - loss: 38.5120 - accuracy: 0.5117 - val_loss: 28.3745 - val_accuracy: 0.5042\n",
      "Epoch 20/30\n",
      "50/50 - 8s - loss: 38.3323 - accuracy: 0.4924 - val_loss: 28.2211 - val_accuracy: 0.5125\n",
      "Epoch 21/30\n",
      "50/50 - 8s - loss: 38.1559 - accuracy: 0.5137 - val_loss: 28.1107 - val_accuracy: 0.5000\n",
      "Epoch 22/30\n",
      "50/50 - 8s - loss: 38.1084 - accuracy: 0.5130 - val_loss: 27.9928 - val_accuracy: 0.4958\n",
      "Epoch 23/30\n",
      "50/50 - 8s - loss: 37.7980 - accuracy: 0.5147 - val_loss: 27.8793 - val_accuracy: 0.4958\n",
      "Epoch 24/30\n",
      "50/50 - 8s - loss: 37.6153 - accuracy: 0.5187 - val_loss: 27.7231 - val_accuracy: 0.5042\n",
      "Epoch 25/30\n",
      "50/50 - 8s - loss: 37.6981 - accuracy: 0.4914 - val_loss: 27.6374 - val_accuracy: 0.5000\n",
      "Epoch 26/30\n",
      "50/50 - 8s - loss: 37.5173 - accuracy: 0.5127 - val_loss: 27.4902 - val_accuracy: 0.4917\n",
      "Epoch 27/30\n",
      "50/50 - 8s - loss: 37.3357 - accuracy: 0.5147 - val_loss: 27.3832 - val_accuracy: 0.5042\n",
      "Epoch 28/30\n",
      "50/50 - 8s - loss: 36.8995 - accuracy: 0.5157 - val_loss: 27.2558 - val_accuracy: 0.4917\n",
      "Epoch 29/30\n",
      "50/50 - 8s - loss: 36.8495 - accuracy: 0.5130 - val_loss: 27.1388 - val_accuracy: 0.4875\n",
      "Epoch 30/30\n",
      "50/50 - 8s - loss: 36.6709 - accuracy: 0.5100 - val_loss: 26.9926 - val_accuracy: 0.5000\n"
     ]
    }
   ],
   "source": [
    "myR2ScoreMonitor = MyThresholdCallback(cl=0.70)\n",
    "\n",
    "history = classifier.fit(train_generator,\n",
    "                              validation_data=test_generator,\n",
    "                              steps_per_epoch=50,   #NumberofImages = BatchSize*StepsPerEpoch\n",
    "                              epochs=30,\n",
    "                              validation_steps=12,   #NumberofImages = BatchSize*StepsPerEpoch\n",
    "                              verbose=2)"
   ]
  },
  {
   "cell_type": "code",
   "execution_count": 9,
   "metadata": {
    "colab": {
     "base_uri": "https://localhost:8080/",
     "height": 235
    },
    "colab_type": "code",
    "id": "oWJzZXRestce",
    "outputId": "d37d5ddc-9362-41e0-ae8e-c47d90b7fd90"
   },
   "outputs": [
    {
     "name": "stdout",
     "output_type": "stream",
     "text": [
      "WARNING:tensorflow:From <ipython-input-9-10f809ba843b>:5: Sequential.predict_classes (from tensorflow.python.keras.engine.sequential) is deprecated and will be removed after 2021-01-01.\n",
      "Instructions for updating:\n",
      "Please use instead:* `np.argmax(model.predict(x), axis=-1)`,   if your model does multi-class classification   (e.g. if it uses a `softmax` last-layer activation).* `(model.predict(x) > 0.5).astype(\"int32\")`,   if your model does binary classification   (e.g. if it uses a `sigmoid` last-layer activation).\n",
      "Its a Human\n"
     ]
    },
    {
     "data": {
      "image/png": "[encoded data removed]",
      "text/plain": [
       "<PIL.Image.Image image mode=RGB size=128x128 at 0x7F07E027A3C8>"
      ]
     },
     "execution_count": 9,
     "metadata": {
      "tags": []
     },
     "output_type": "execute_result"
    }
   ],
   "source": [
    "img = tf.keras.preprocessing.image.load_img('drive/My Drive/PG AI ML/HumanHorseCNN/Validation/humans/valhuman01-06.png', target_size=(128,128))\n",
    "imgArray = tf.keras.preprocessing.image.img_to_array(img)\n",
    "compatibleImgArray = np.expand_dims(imgArray, axis=0)\n",
    "imageData = np.vstack([compatibleImgArray])\n",
    "if classifier.predict_classes(imageData) == 0:\n",
    "    print('Its a Horse')\n",
    "else:\n",
    "    print('Its a Human')\n",
    "\n",
    "img"
   ]
  },
  {
   "cell_type": "code",
   "execution_count": 10,
   "metadata": {
    "colab": {
     "base_uri": "https://localhost:8080/",
     "height": 162
    },
    "colab_type": "code",
    "id": "nFiXvFd_yw0t",
    "outputId": "dca00474-271a-4bb3-83a2-bfceeb5458ad"
   },
   "outputs": [
    {
     "name": "stdout",
     "output_type": "stream",
     "text": [
      "Its a Human\n"
     ]
    },
    {
     "data": {
      "image/png": "[encoded data removed]",
      "text/plain": [
       "<PIL.Image.Image image mode=RGB size=128x128 at 0x7F07E0222E80>"
      ]
     },
     "execution_count": 10,
     "metadata": {
      "tags": []
     },
     "output_type": "execute_result"
    }
   ],
   "source": [
    "img = tf.keras.preprocessing.image.load_img('drive/My Drive/PG AI ML/HumanHorseCNN/Validation/horses/horse3-055.png', target_size=(128,128))\n",
    "imgArray = tf.keras.preprocessing.image.img_to_array(img)\n",
    "compatibleImgArray = np.expand_dims(imgArray, axis=0)\n",
    "imageData = np.vstack([compatibleImgArray])\n",
    "if classifier.predict(imageData) == 0:\n",
    "    print('Its a Horse')\n",
    "else:\n",
    "    print('Its a Human')\n",
    "\n",
    "img"
   ]
  },
  {
   "cell_type": "markdown",
   "metadata": {
    "colab_type": "text",
    "id": "Md5qrTCrtseT"
   },
   "source": [
    "## **Test 1**"
   ]
  },
  {
   "cell_type": "code",
   "execution_count": 15,
   "metadata": {
    "colab": {},
    "colab_type": "code",
    "id": "IGw1oeevkWrJ"
   },
   "outputs": [],
   "source": [
    "#Custom Callback\n",
    "class MyThresholdCallback(tf.keras.callbacks.Callback):\n",
    " def __init__(self, cl):\n",
    "   super(MyThresholdCallback, self).__init__()\n",
    "   self.cl = cl\n",
    "\n",
    " def on_epoch_end(self, epoch, logs=None):\n",
    "   test_score = logs[\"val_acc\"]\n",
    "   train_score = logs[\"acc\"]\n",
    "   if test_score > train_score and test_score > self.cl:\n",
    "     self.model.stop_training = True"
   ]
  },
  {
   "cell_type": "code",
   "execution_count": 17,
   "metadata": {
    "colab": {
     "base_uri": "https://localhost:8080/",
     "height": 87
    },
    "colab_type": "code",
    "id": "GjFlID8ctd8l",
    "outputId": "f531927c-0ddc-49a9-84d1-5c15d0596acf"
   },
   "outputs": [
    {
     "name": "stdout",
     "output_type": "stream",
     "text": [
      "Found 1027 images belonging to 2 classes.\n",
      "Found 256 images belonging to 2 classes.\n",
      "Epoch 1/20\n",
      "50/50 - 8s - loss: 0.4177 - acc: 0.8014 - val_loss: 0.6708 - val_acc: 0.8292\n"
     ]
    }
   ],
   "source": [
    "#Define Path for train data and test data\n",
    "train_dir = 'drive/My Drive/PG AI ML/HumanHorseCNN/Train'\n",
    "validation_dir = 'drive/My Drive/PG AI ML/HumanHorseCNN/Validation/'\n",
    "\n",
    "\n",
    "model = tf.keras.models.Sequential([\n",
    "    tf.keras.layers.Conv2D(32, (3,3), activation='relu', input_shape=(150, 150, 3)),\n",
    "    tf.keras.layers.MaxPooling2D(2, 2),\n",
    "    tf.keras.layers.Conv2D(64, (3,3), activation='relu'),\n",
    "    tf.keras.layers.MaxPooling2D(2,2),\n",
    "    tf.keras.layers.Conv2D(128, (3,3), activation='relu'),\n",
    "    tf.keras.layers.MaxPooling2D(2,2),\n",
    "    tf.keras.layers.Conv2D(128, (3,3), activation='relu'),\n",
    "    tf.keras.layers.MaxPooling2D(2,2),\n",
    "    tf.keras.layers.Flatten(),\n",
    "    tf.keras.layers.Dense(512, activation='relu'),\n",
    "    tf.keras.layers.Dense(1, activation='sigmoid')\n",
    "])\n",
    "\n",
    "model.compile(loss='binary_crossentropy',\n",
    "              optimizer=RMSprop(lr=1e-4),\n",
    "              metrics=['acc'])\n",
    "\n",
    "# All images will be rescaled by 1./255\n",
    "train_datagen = ImageDataGenerator(rescale=1./255)\n",
    "test_datagen = ImageDataGenerator(rescale=1./255)\n",
    "\n",
    "# Flow training images in batches of 20 using train_datagen generator\n",
    "train_generator = train_datagen.flow_from_directory(\n",
    "        train_dir,  # This is the source directory for training images\n",
    "        target_size=(150, 150),  # All images will be resized to 150x150\n",
    "        batch_size=20,\n",
    "        # Since we use binary_crossentropy loss, we need binary labels\n",
    "        class_mode='binary')\n",
    "\n",
    "# Flow validation images in batches of 20 using test_datagen generator\n",
    "validation_generator = test_datagen.flow_from_directory(\n",
    "        validation_dir,\n",
    "        target_size=(150, 150),\n",
    "        batch_size=20,\n",
    "        class_mode='binary')\n",
    "\n",
    "myR2ScoreMonitor = MyThresholdCallback(cl=0.80)\n",
    "\n",
    "history = model.fit_generator(\n",
    "      train_generator,\n",
    "      steps_per_epoch=50, \n",
    "      epochs=20,\n",
    "      callbacks= [myR2ScoreMonitor],\n",
    "      validation_data=validation_generator,\n",
    "      validation_steps=12,  \n",
    "      verbose=2)"
   ]
  },
  {
   "cell_type": "code",
   "execution_count": 18,
   "metadata": {
    "colab": {
     "base_uri": "https://localhost:8080/",
     "height": 298
    },
    "colab_type": "code",
    "id": "8gD-ZamxzKP8",
    "outputId": "40dbe715-4e61-43f7-f82a-0fd272943ed0"
   },
   "outputs": [
    {
     "data": {
      "text/plain": [
       "Text(0.5, 1.0, 'Training and validation accuracy')"
      ]
     },
     "execution_count": 18,
     "metadata": {
      "tags": []
     },
     "output_type": "execute_result"
    },
    {
     "data": {
      "image/png": "[encoded data removed]",
      "text/plain": [
       "<Figure size 432x288 with 1 Axes>"
      ]
     },
     "metadata": {
      "needs_background": "light",
      "tags": []
     },
     "output_type": "display_data"
    }
   ],
   "source": [
    "import matplotlib.pyplot as plt\n",
    "acc = history.history['acc']\n",
    "val_acc = history.history['val_acc']\n",
    "\n",
    "\n",
    "epochs = range(len(acc))\n",
    "\n",
    "plt.plot(epochs, acc, 'bo', label='Training accuracy')\n",
    "plt.plot(epochs, val_acc, 'b', label='Validation accuracy')\n",
    "plt.title('Training and validation accuracy')"
   ]
  },
  {
   "cell_type": "code",
   "execution_count": 21,
   "metadata": {
    "colab": {
     "base_uri": "https://localhost:8080/",
     "height": 162
    },
    "colab_type": "code",
    "id": "9FQV9tzDk0qR",
    "outputId": "0d19bad7-12ae-41b4-8317-112bf4c441dd"
   },
   "outputs": [
    {
     "name": "stdout",
     "output_type": "stream",
     "text": [
      "Its a Human\n"
     ]
    },
    {
     "data": {
      "image/png": "[encoded data removed]",
      "text/plain": [
       "<PIL.Image.Image image mode=RGB size=128x128 at 0x7F07D82C4B70>"
      ]
     },
     "execution_count": 21,
     "metadata": {
      "tags": []
     },
     "output_type": "execute_result"
    }
   ],
   "source": [
    "img = tf.keras.preprocessing.image.load_img('drive/My Drive/PG AI ML/HumanHorseCNN/Validation/horses/horse2-040.png', target_size=(128,128))\n",
    "imgArray = tf.keras.preprocessing.image.img_to_array(img)\n",
    "compatibleImgArray = np.expand_dims(imgArray, axis=0)\n",
    "imageData = np.vstack([compatibleImgArray])\n",
    "if classifier.predict(imageData) == 0:\n",
    "    print('Its a Horse')\n",
    "else:\n",
    "    print('Its a Human')\n",
    "\n",
    "img"
   ]
  },
  {
   "cell_type": "markdown",
   "metadata": {
    "colab_type": "text",
    "id": "9nuC-ZHj1Z19"
   },
   "source": [
    "## **Test 2**"
   ]
  },
  {
   "cell_type": "code",
   "execution_count": 22,
   "metadata": {
    "colab": {},
    "colab_type": "code",
    "id": "x06BrJhLF_5d"
   },
   "outputs": [],
   "source": [
    "#Custom Callback\n",
    "class MyThresholdCallback(tf.keras.callbacks.Callback):\n",
    " def __init__(self, cl):\n",
    "   super(MyThresholdCallback, self).__init__()\n",
    "   self.cl = cl\n",
    "\n",
    " def on_epoch_end(self, epoch, logs=None):\n",
    "   test_score = logs[\"val_acc\"]\n",
    "   train_score = logs[\"acc\"]\n",
    "   if test_score > train_score and test_score > self.cl:\n",
    "     self.model.stop_training = True"
   ]
  },
  {
   "cell_type": "code",
   "execution_count": 35,
   "metadata": {
    "colab": {
     "base_uri": "https://localhost:8080/",
     "height": 727
    },
    "colab_type": "code",
    "id": "bNSZy_bn1Xwg",
    "outputId": "5b821925-fc45-438f-9b0f-97bc15acfbee"
   },
   "outputs": [
    {
     "name": "stdout",
     "output_type": "stream",
     "text": [
      "Found 1027 images belonging to 2 classes.\n",
      "Found 256 images belonging to 2 classes.\n",
      "Epoch 1/50\n",
      "50/50 - 12s - loss: 0.6977 - acc: 0.5441 - val_loss: 0.6933 - val_acc: 0.5000\n",
      "Epoch 2/50\n",
      "50/50 - 12s - loss: 0.6941 - acc: 0.5127 - val_loss: 0.6867 - val_acc: 0.5167\n",
      "Epoch 3/50\n",
      "50/50 - 12s - loss: 0.6927 - acc: 0.5583 - val_loss: 0.6950 - val_acc: 0.5000\n",
      "Epoch 4/50\n",
      "50/50 - 12s - loss: 0.6925 - acc: 0.5319 - val_loss: 0.6904 - val_acc: 0.5000\n",
      "Epoch 5/50\n",
      "50/50 - 12s - loss: 0.6929 - acc: 0.5431 - val_loss: 0.6897 - val_acc: 0.5000\n",
      "Epoch 6/50\n",
      "50/50 - 12s - loss: 0.6847 - acc: 0.5724 - val_loss: 0.6905 - val_acc: 0.4958\n",
      "Epoch 7/50\n",
      "50/50 - 12s - loss: 0.6867 - acc: 0.5714 - val_loss: 0.6679 - val_acc: 0.5083\n",
      "Epoch 8/50\n",
      "50/50 - 13s - loss: 0.6754 - acc: 0.6099 - val_loss: 0.6795 - val_acc: 0.5042\n",
      "Epoch 9/50\n",
      "50/50 - 12s - loss: 0.6502 - acc: 0.6190 - val_loss: 0.6505 - val_acc: 0.5125\n",
      "Epoch 10/50\n",
      "50/50 - 12s - loss: 0.6446 - acc: 0.6160 - val_loss: 0.7081 - val_acc: 0.5083\n",
      "Epoch 11/50\n",
      "50/50 - 12s - loss: 0.6102 - acc: 0.6829 - val_loss: 0.6284 - val_acc: 0.6208\n",
      "Epoch 12/50\n",
      "50/50 - 12s - loss: 0.5906 - acc: 0.6930 - val_loss: 0.9558 - val_acc: 0.5125\n",
      "Epoch 13/50\n",
      "50/50 - 12s - loss: 0.5334 - acc: 0.7260 - val_loss: 1.1311 - val_acc: 0.5292\n",
      "Epoch 14/50\n",
      "50/50 - 12s - loss: 0.5203 - acc: 0.7518 - val_loss: 1.2152 - val_acc: 0.5625\n",
      "Epoch 15/50\n",
      "50/50 - 12s - loss: 0.4656 - acc: 0.7943 - val_loss: 0.5657 - val_acc: 0.7708\n",
      "Epoch 16/50\n",
      "50/50 - 12s - loss: 0.4711 - acc: 0.7994 - val_loss: 0.6229 - val_acc: 0.5250\n",
      "Epoch 17/50\n",
      "50/50 - 12s - loss: 0.3907 - acc: 0.8260 - val_loss: 0.3407 - val_acc: 0.8375\n",
      "Epoch 18/50\n",
      "50/50 - 12s - loss: 0.3472 - acc: 0.8531 - val_loss: 0.3382 - val_acc: 0.8667\n",
      "Epoch 19/50\n",
      "50/50 - 12s - loss: 0.3445 - acc: 0.8460 - val_loss: 0.2991 - val_acc: 0.9208\n"
     ]
    }
   ],
   "source": [
    "tf.random.set_seed(2800)\n",
    "np.random.seed(28000)\n",
    "\n",
    "model = tf.keras.models.Sequential([\n",
    "    tf.keras.layers.Conv2D(32, (3,3), activation='relu', input_shape=(150, 150, 3)),\n",
    "    tf.keras.layers.MaxPooling2D(2, 2),\n",
    "    tf.keras.layers.Conv2D(64, (3,3), activation='relu'),\n",
    "    tf.keras.layers.MaxPooling2D(2,2),\n",
    "    tf.keras.layers.Conv2D(128, (3,3), activation='relu'),\n",
    "    tf.keras.layers.MaxPooling2D(2,2),\n",
    "    tf.keras.layers.Conv2D(128, (3,3), activation='relu'),\n",
    "    tf.keras.layers.MaxPooling2D(2,2),\n",
    "    tf.keras.layers.Flatten(),\n",
    "    tf.keras.layers.Dense(512, activation='relu'),\n",
    "    tf.keras.layers.Dense(1, activation='sigmoid')\n",
    "])\n",
    "\n",
    "model.compile(loss='binary_crossentropy',\n",
    "              optimizer=tf.keras.optimizers.Adagrad(learning_rate=0.1),\n",
    "              #optimizer=tf.keras.optimizers.Adam(learning_rate=0.1),\n",
    "              metrics=['acc'])\n",
    "\n",
    "\n",
    "# This code has changed. Now instead of the ImageGenerator just rescaling\n",
    "# the image, we also rotate and do other operations\n",
    "# Updated to do image augmentation\n",
    "train_datagen = ImageDataGenerator(\n",
    "      rescale=1./255,\n",
    "      rotation_range=40,\n",
    "      width_shift_range=0.2,\n",
    "      height_shift_range=0.2,\n",
    "      shear_range=0.2,\n",
    "      zoom_range=0.2,\n",
    "      horizontal_flip=True,\n",
    "      fill_mode='nearest')\n",
    "\n",
    "test_datagen = ImageDataGenerator(rescale=1./255)\n",
    "\n",
    "# Flow training images in batches of 20 using train_datagen generator\n",
    "train_generator = train_datagen.flow_from_directory(\n",
    "        train_dir,  # This is the source directory for training images\n",
    "        target_size=(150, 150),  # All images will be resized to 150x150\n",
    "        batch_size=20,\n",
    "        # Since we use binary_crossentropy loss, we need binary labels\n",
    "        class_mode='binary')\n",
    "\n",
    "# Flow validation images in batches of 20 using test_datagen generator\n",
    "validation_generator = test_datagen.flow_from_directory(\n",
    "        test_dir,\n",
    "        target_size=(150, 150),\n",
    "        batch_size=20,\n",
    "        class_mode='binary')\n",
    "\n",
    "myR2ScoreMonitor = MyThresholdCallback(cl=0.90)\n",
    "\n",
    "history = model.fit(\n",
    "      train_generator,\n",
    "      validation_data=validation_generator,\n",
    "      steps_per_epoch=50,  # 2000 images = batch_size * steps\n",
    "      epochs=50,\n",
    "      callbacks= [myR2ScoreMonitor],\n",
    "      validation_steps=12,  # 1000 images = batch_size * steps\n",
    "      verbose=2)\n"
   ]
  },
  {
   "cell_type": "code",
   "execution_count": 36,
   "metadata": {
    "colab": {
     "base_uri": "https://localhost:8080/",
     "height": 298
    },
    "colab_type": "code",
    "id": "l3ODHGW-1vUE",
    "outputId": "251c8c16-8e63-4606-9432-74ea582403af"
   },
   "outputs": [
    {
     "data": {
      "text/plain": [
       "Text(0.5, 1.0, 'Training and validation accuracy')"
      ]
     },
     "execution_count": 36,
     "metadata": {
      "tags": []
     },
     "output_type": "execute_result"
    },
    {
     "data": {
      "image/png": "[encoded data removed]",
      "text/plain": [
       "<Figure size 432x288 with 1 Axes>"
      ]
     },
     "metadata": {
      "needs_background": "light",
      "tags": []
     },
     "output_type": "display_data"
    }
   ],
   "source": [
    "import matplotlib.pyplot as plt\n",
    "acc = history.history['acc']\n",
    "val_acc = history.history['val_acc']\n",
    "\n",
    "\n",
    "epochs = range(len(acc))\n",
    "\n",
    "plt.plot(epochs, acc, 'bo', label='Training accuracy')\n",
    "plt.plot(epochs, val_acc, 'b', label='Validation accuracy')\n",
    "plt.title('Training and validation accuracy')"
   ]
  },
  {
   "cell_type": "code",
   "execution_count": 37,
   "metadata": {
    "colab": {
     "base_uri": "https://localhost:8080/",
     "height": 162
    },
    "colab_type": "code",
    "id": "D4qZQdb3_7tE",
    "outputId": "a0d06d21-c820-4023-f24f-64a0a1504d00"
   },
   "outputs": [
    {
     "name": "stdout",
     "output_type": "stream",
     "text": [
      "Human\n"
     ]
    },
    {
     "data": {
      "image/png": "[encoded data removed]",
      "text/plain": [
       "<PIL.Image.Image image mode=RGB size=128x128 at 0x7F07E0041D68>"
      ]
     },
     "execution_count": 37,
     "metadata": {
      "tags": []
     },
     "output_type": "execute_result"
    }
   ],
   "source": [
    "img = tf.keras.preprocessing.image.load_img('drive/My Drive/PG AI ML/HumanHorseCNN/Validation/horses/horse2-040.png', target_size=(128,128))\n",
    "imgArray = tf.keras.preprocessing.image.img_to_array(img)\n",
    "compatibleImgArray = np.expand_dims(imgArray, axis=0)\n",
    "imageData = np.vstack([compatibleImgArray])\n",
    "if classifier.predict_classes(imageData) == 0:\n",
    "    print('Horse')\n",
    "else:\n",
    "    print('Human')\n",
    "\n",
    "img"
   ]
  },
  {
   "cell_type": "code",
   "execution_count": 38,
   "metadata": {
    "colab": {},
    "colab_type": "code",
    "id": "HxvVFPQd1Z6l"
   },
   "outputs": [],
   "source": [
    "from keras.models import save_model\n",
    "model = save_model(model,'drive/My Drive/PG AI ML/HumanHorseCNN/imagePredictor.h5')"
   ]
  },
  {
   "cell_type": "code",
   "execution_count": null,
   "metadata": {
    "colab": {},
    "colab_type": "code",
    "id": "haVF-wuC1qsF"
   },
   "outputs": [],
   "source": []
  }
 ],
 "metadata": {
  "accelerator": "GPU",
  "colab": {
   "collapsed_sections": [],
   "name": "HorseHumanAssignment_New.ipynb",
   "provenance": [],
   "toc_visible": true
  },
  "kernelspec": {
   "display_name": "Python 3",
   "language": "python",
   "name": "python3"
  },
  "language_info": {
   "codemirror_mode": {
    "name": "ipython",
    "version": 3
   },
   "file_extension": ".py",
   "mimetype": "text/x-python",
   "name": "python",
   "nbconvert_exporter": "python",
   "pygments_lexer": "ipython3",
   "version": "3.7.6"
  }
 },
 "nbformat": 4,
 "nbformat_minor": 1
}
