{
  "nbformat": 4,
  "nbformat_minor": 0,
  "metadata": {
    "colab": {
      "name": "HumanHorse_CNN_Assignment.ipynb",
      "provenance": [],
      "collapsed_sections": [],
      "toc_visible": true
    },
    "kernelspec": {
      "name": "python3",
      "display_name": "Python 3"
    },
    "accelerator": "GPU"
  },
  "cells": [
    {
      "cell_type": "code",
      "metadata": {
        "id": "5kotjr9uzE5u",
        "colab_type": "code",
        "colab": {}
      },
      "source": [
        "import tensorflow as tf\n",
        "import numpy as np\n",
        "from tensorflow.keras.optimizers import RMSprop\n",
        "from tensorflow.keras.preprocessing.image import ImageDataGenerator\n"
      ],
      "execution_count": 1,
      "outputs": []
    },
    {
      "cell_type": "code",
      "metadata": {
        "id": "Nkce_W4-GHpr",
        "colab_type": "code",
        "colab": {
          "base_uri": "https://localhost:8080/",
          "height": 125
        },
        "outputId": "38ee3509-8810-4710-a086-434888b5ecc3"
      },
      "source": [
        "from google.colab import drive\n",
        "drive.mount('/content/drive')"
      ],
      "execution_count": 2,
      "outputs": [
        {
          "output_type": "stream",
          "text": [
            "Go to this URL in a browser: https://accounts.google.com/o/oauth2/auth?client_id=947318989803-6bn6qk8qdgf4n4g3pfee6491hc0brc4i.apps.googleusercontent.com&redirect_uri=urn%3aietf%3awg%3aoauth%3a2.0%3aoob&scope=email%20https%3a%2f%2fwww.googleapis.com%2fauth%2fdocs.test%20https%3a%2f%2fwww.googleapis.com%2fauth%2fdrive%20https%3a%2f%2fwww.googleapis.com%2fauth%2fdrive.photos.readonly%20https%3a%2f%2fwww.googleapis.com%2fauth%2fpeopleapi.readonly&response_type=code\n",
            "\n",
            "Enter your authorization code:\n",
            "··········\n",
            "Mounted at /content/drive\n"
          ],
          "name": "stdout"
        }
      ]
    },
    {
      "cell_type": "code",
      "metadata": {
        "id": "mxj7yH15zP1L",
        "colab_type": "code",
        "colab": {}
      },
      "source": [
        "#Define Path for train data and test data\n",
        "train_dir = 'drive/My Drive/PG AI ML/HumanHorseCNN/Train'\n",
        "test_dir = 'drive/My Drive/PG AI ML/HumanHorseCNN/Validation/'"
      ],
      "execution_count": 3,
      "outputs": []
    },
    {
      "cell_type": "code",
      "metadata": {
        "id": "U4g2L4Nn0GZn",
        "colab_type": "code",
        "colab": {
          "base_uri": "https://localhost:8080/",
          "height": 52
        },
        "outputId": "40b65ea7-5a32-4731-c52a-fcef51517dbb"
      },
      "source": [
        "# All images will be rescaled by 1./255. The intensities will be in the range of 0 -255\n",
        "train_datagen = tf.keras.preprocessing.image.ImageDataGenerator( rescale = 1.0/255. )\n",
        "test_datagen  = tf.keras.preprocessing.image.ImageDataGenerator( rescale = 1.0/255. )\n",
        "\n",
        "# --------------------\n",
        "# Flow training images in batches of 20 using train_datagen generator\n",
        "# --------------------\n",
        "train_generator = train_datagen.flow_from_directory(train_dir,\n",
        "                                                    batch_size=20,\n",
        "                                                    class_mode='binary',\n",
        "                                                    target_size=(128, 128))   \n",
        "# --------------------\n",
        "# Flow validation images in batches of 20 using test_datagen generator\n",
        "# --------------------\n",
        "test_generator =  test_datagen.flow_from_directory(test_dir,\n",
        "                                                         batch_size=20,\n",
        "                                                         class_mode  = 'binary',\n",
        "                                                         target_size = (128, 128))"
      ],
      "execution_count": 4,
      "outputs": [
        {
          "output_type": "stream",
          "text": [
            "Found 1027 images belonging to 2 classes.\n",
            "Found 256 images belonging to 2 classes.\n"
          ],
          "name": "stdout"
        }
      ]
    },
    {
      "cell_type": "code",
      "metadata": {
        "id": "J2CVCIoXFmoI",
        "colab_type": "code",
        "colab": {}
      },
      "source": [
        "# Initialising the CNN\n",
        "classifier = tf.keras.models.Sequential()\n",
        "\n",
        "# Step 1 - Convolution  #No of Feature Maps, Filter, color image with channel,\n",
        "classifier.add(tf.keras.layers.Conv2D(64, (3, 3), input_shape = (128, 128, 3), activation = 'relu'))\n",
        "\n",
        "# Step 2 - Pooling\n",
        "classifier.add(tf.keras.layers.MaxPooling2D(pool_size = (2, 2)))\n",
        "\n",
        "# Adding a second convolutional layer\n",
        "classifier.add(tf.keras.layers.Conv2D(64, (3, 3), activation = 'relu'))\n",
        "classifier.add(tf.keras.layers.MaxPooling2D(pool_size = (2, 2)))\n",
        "\n",
        "# Step 3 - Flattening\n",
        "classifier.add(tf.keras.layers.Flatten())\n",
        "\n",
        "# Step 4 - Full connection\n",
        "classifier.add(tf.keras.layers.Dropout(0.3))\n",
        "classifier.add(tf.keras.layers.Dense(units = 256, activation = 'relu' , kernel_regularizer=tf.keras.regularizers.l1(0.001)))\n",
        "classifier.add(tf.keras.layers.Dropout(0.3))\n",
        "classifier.add(tf.keras.layers.Dense(units = 256, activation = 'relu' , kernel_regularizer=tf.keras.regularizers.l1(0.001)))\n",
        "classifier.add(tf.keras.layers.Dense(units = 1, activation = 'sigmoid'))\n",
        "\n",
        "# Compiling the CNN\n",
        "classifier.compile(optimizer = tf.keras.optimizers.Nadam(learning_rate=0.01), loss = 'binary_crossentropy', metrics = ['accuracy'])"
      ],
      "execution_count": 5,
      "outputs": []
    },
    {
      "cell_type": "code",
      "metadata": {
        "id": "X481LKgLR8qs",
        "colab_type": "code",
        "colab": {}
      },
      "source": [
        "#Custom Callback\n",
        "class MyThresholdCallback(tf.keras.callbacks.Callback):\n",
        " def __init__(self, cl):\n",
        "   super(MyThresholdCallback, self).__init__()\n",
        "   self.cl = cl\n",
        "\n",
        " def on_epoch_end(self, epoch, logs=None):\n",
        "   test_score = logs[\"val_accuracy\"]\n",
        "   train_score = logs[\"accuracy\"]\n",
        "   if test_score > train_score and test_score > self.cl:\n",
        "     self.model.stop_training = True"
      ],
      "execution_count": 6,
      "outputs": []
    },
    {
      "cell_type": "code",
      "metadata": {
        "id": "NQ9t3hc1Kjrs",
        "colab_type": "code",
        "colab": {
          "base_uri": "https://localhost:8080/",
          "height": 1000
        },
        "outputId": "fde1f7d1-231c-458e-9d4b-924b0f333049"
      },
      "source": [
        "myR2ScoreMonitor = MyThresholdCallback(cl=0.70)\n",
        "\n",
        "history = classifier.fit(train_generator,\n",
        "                              validation_data=test_generator,\n",
        "                              steps_per_epoch=50,   #NumberofImages = BatchSize*StepsPerEpoch\n",
        "                              epochs=30,\n",
        "                              validation_steps=12,   #NumberofImages = BatchSize*StepsPerEpoch\n",
        "                              verbose=2)"
      ],
      "execution_count": 8,
      "outputs": [
        {
          "output_type": "stream",
          "text": [
            "Epoch 1/30\n",
            "50/50 - 87s - loss: 40.4297 - accuracy: 0.4944 - val_loss: 26.9051 - val_accuracy: 0.5042\n",
            "Epoch 2/30\n",
            "50/50 - 9s - loss: 40.7264 - accuracy: 0.5025 - val_loss: 27.1640 - val_accuracy: 0.5000\n",
            "Epoch 3/30\n",
            "50/50 - 9s - loss: 40.6372 - accuracy: 0.4970 - val_loss: 27.2899 - val_accuracy: 0.5083\n",
            "Epoch 4/30\n",
            "50/50 - 9s - loss: 40.8067 - accuracy: 0.5147 - val_loss: 27.2786 - val_accuracy: 0.4958\n",
            "Epoch 5/30\n",
            "50/50 - 9s - loss: 40.3994 - accuracy: 0.5167 - val_loss: 27.3261 - val_accuracy: 0.4917\n",
            "Epoch 6/30\n",
            "50/50 - 9s - loss: 40.3113 - accuracy: 0.5117 - val_loss: 27.2733 - val_accuracy: 0.4875\n",
            "Epoch 7/30\n",
            "50/50 - 9s - loss: 40.2003 - accuracy: 0.4944 - val_loss: 27.2439 - val_accuracy: 0.5042\n",
            "Epoch 8/30\n",
            "50/50 - 9s - loss: 40.4202 - accuracy: 0.5198 - val_loss: 27.1520 - val_accuracy: 0.5000\n",
            "Epoch 9/30\n",
            "50/50 - 9s - loss: 39.9400 - accuracy: 0.5167 - val_loss: 27.1137 - val_accuracy: 0.4958\n",
            "Epoch 10/30\n",
            "50/50 - 9s - loss: 39.7972 - accuracy: 0.5096 - val_loss: 26.9969 - val_accuracy: 0.4958\n",
            "Epoch 11/30\n",
            "50/50 - 9s - loss: 39.9861 - accuracy: 0.5157 - val_loss: 26.9608 - val_accuracy: 0.5042\n",
            "Epoch 12/30\n",
            "50/50 - 9s - loss: 39.4916 - accuracy: 0.5117 - val_loss: 26.8240 - val_accuracy: 0.4958\n",
            "Epoch 13/30\n",
            "50/50 - 9s - loss: 39.6679 - accuracy: 0.5157 - val_loss: 26.7648 - val_accuracy: 0.5042\n",
            "Epoch 14/30\n",
            "50/50 - 9s - loss: 39.5060 - accuracy: 0.4924 - val_loss: 26.6728 - val_accuracy: 0.5042\n",
            "Epoch 15/30\n",
            "50/50 - 9s - loss: 39.3380 - accuracy: 0.5137 - val_loss: 26.5809 - val_accuracy: 0.5042\n",
            "Epoch 16/30\n",
            "50/50 - 9s - loss: 39.1702 - accuracy: 0.5137 - val_loss: 26.4532 - val_accuracy: 0.5000\n",
            "Epoch 17/30\n",
            "50/50 - 9s - loss: 39.0008 - accuracy: 0.5137 - val_loss: 26.4119 - val_accuracy: 0.5000\n",
            "Epoch 18/30\n",
            "50/50 - 9s - loss: 38.5029 - accuracy: 0.5177 - val_loss: 26.2610 - val_accuracy: 0.5000\n",
            "Epoch 19/30\n",
            "50/50 - 9s - loss: 38.4950 - accuracy: 0.5140 - val_loss: 26.1758 - val_accuracy: 0.5000\n",
            "Epoch 20/30\n",
            "50/50 - 9s - loss: 38.4830 - accuracy: 0.5137 - val_loss: 26.0744 - val_accuracy: 0.5000\n",
            "Epoch 21/30\n",
            "50/50 - 9s - loss: 38.3106 - accuracy: 0.5106 - val_loss: 25.9808 - val_accuracy: 0.4958\n",
            "Epoch 22/30\n",
            "50/50 - 10s - loss: 37.8180 - accuracy: 0.5147 - val_loss: 25.8358 - val_accuracy: 0.5125\n",
            "Epoch 23/30\n",
            "50/50 - 9s - loss: 37.6471 - accuracy: 0.5106 - val_loss: 25.7818 - val_accuracy: 0.4958\n",
            "Epoch 24/30\n",
            "50/50 - 9s - loss: 37.4716 - accuracy: 0.5137 - val_loss: 25.6431 - val_accuracy: 0.5042\n",
            "Epoch 25/30\n",
            "50/50 - 9s - loss: 37.6114 - accuracy: 0.5157 - val_loss: 25.5504 - val_accuracy: 0.5000\n",
            "Epoch 26/30\n",
            "50/50 - 9s - loss: 37.1252 - accuracy: 0.5035 - val_loss: 25.4425 - val_accuracy: 0.4875\n",
            "Epoch 27/30\n",
            "50/50 - 9s - loss: 36.9527 - accuracy: 0.5157 - val_loss: 25.3474 - val_accuracy: 0.4958\n",
            "Epoch 28/30\n",
            "50/50 - 9s - loss: 36.7814 - accuracy: 0.5167 - val_loss: 25.2085 - val_accuracy: 0.4958\n",
            "Epoch 29/30\n",
            "50/50 - 9s - loss: 36.6098 - accuracy: 0.5127 - val_loss: 25.1458 - val_accuracy: 0.5000\n",
            "Epoch 30/30\n",
            "50/50 - 10s - loss: 36.4374 - accuracy: 0.5157 - val_loss: 25.0028 - val_accuracy: 0.5000\n"
          ],
          "name": "stdout"
        }
      ]
    },
    {
      "cell_type": "code",
      "metadata": {
        "id": "oWJzZXRestce",
        "colab_type": "code",
        "colab": {
          "base_uri": "https://localhost:8080/",
          "height": 235
        },
        "outputId": "b6fa26cc-369f-4a5b-fdfe-e66d171c49f5"
      },
      "source": [
        "img = tf.keras.preprocessing.image.load_img('drive/My Drive/PG AI ML/HumanHorseCNN/Validation/humans/valhuman01-06.png', target_size=(128,128))\n",
        "imgArray = tf.keras.preprocessing.image.img_to_array(img)\n",
        "compatibleImgArray = np.expand_dims(imgArray, axis=0)\n",
        "imageData = np.vstack([compatibleImgArray])\n",
        "if classifier.predict_classes(imageData) == 0:\n",
        "    print('Horse')\n",
        "else:\n",
        "    print('Human')\n",
        "\n",
        "img"
      ],
      "execution_count": 9,
      "outputs": [
        {
          "output_type": "stream",
          "text": [
            "WARNING:tensorflow:From <ipython-input-9-02f8dbf7dda1>:5: Sequential.predict_classes (from tensorflow.python.keras.engine.sequential) is deprecated and will be removed after 2021-01-01.\n",
            "Instructions for updating:\n",
            "Please use instead:* `np.argmax(model.predict(x), axis=-1)`,   if your model does multi-class classification   (e.g. if it uses a `softmax` last-layer activation).* `(model.predict(x) > 0.5).astype(\"int32\")`,   if your model does binary classification   (e.g. if it uses a `sigmoid` last-layer activation).\n",
            "Human\n"
          ],
          "name": "stdout"
        },
        {
          "output_type": "execute_result",
          "data": {
            "image/png": "[encoded data removed]",
            "text/plain": [
              "<PIL.Image.Image image mode=RGB size=128x128 at 0x7F5D205B9E10>"
            ]
          },
          "metadata": {
            "tags": []
          },
          "execution_count": 9
        }
      ]
    },
    {
      "cell_type": "code",
      "metadata": {
        "id": "nFiXvFd_yw0t",
        "colab_type": "code",
        "colab": {
          "base_uri": "https://localhost:8080/",
          "height": 162
        },
        "outputId": "955de3f4-0f90-4b12-fa04-c8223dc54317"
      },
      "source": [
        "img = tf.keras.preprocessing.image.load_img('drive/My Drive/PG AI ML/HumanHorseCNN/Validation/horses/horse3-055.png', target_size=(128,128))\n",
        "imgArray = tf.keras.preprocessing.image.img_to_array(img)\n",
        "compatibleImgArray = np.expand_dims(imgArray, axis=0)\n",
        "imageData = np.vstack([compatibleImgArray])\n",
        "if classifier.predict(imageData) == 0:\n",
        "    print('Its Horse image')\n",
        "else:\n",
        "    print('Its Human image')\n",
        "\n",
        "img"
      ],
      "execution_count": 10,
      "outputs": [
        {
          "output_type": "stream",
          "text": [
            "Its Human image\n"
          ],
          "name": "stdout"
        },
        {
          "output_type": "execute_result",
          "data": {
            "image/png": "[encoded data removed]",
            "text/plain": [
              "<PIL.Image.Image image mode=RGB size=128x128 at 0x7F5D205DBF98>"
            ]
          },
          "metadata": {
            "tags": []
          },
          "execution_count": 10
        }
      ]
    },
    {
      "cell_type": "markdown",
      "metadata": {
        "id": "Md5qrTCrtseT",
        "colab_type": "text"
      },
      "source": [
        "## **Test 1**"
      ]
    },
    {
      "cell_type": "code",
      "metadata": {
        "id": "IGw1oeevkWrJ",
        "colab_type": "code",
        "colab": {}
      },
      "source": [
        "#Custom Callback\n",
        "class MyThresholdCallback(tf.keras.callbacks.Callback):\n",
        " def __init__(self, cl):\n",
        "   super(MyThresholdCallback, self).__init__()\n",
        "   self.cl = cl\n",
        "\n",
        " def on_epoch_end(self, epoch, logs=None):\n",
        "   test_score = logs[\"val_acc\"]\n",
        "   train_score = logs[\"acc\"]\n",
        "   if test_score > train_score and test_score > self.cl:\n",
        "     self.model.stop_training = True"
      ],
      "execution_count": 11,
      "outputs": []
    },
    {
      "cell_type": "code",
      "metadata": {
        "colab_type": "code",
        "id": "1WtXJSWQ0_Ar",
        "colab": {
          "base_uri": "https://localhost:8080/",
          "height": 161
        },
        "outputId": "0e888c2c-8607-47c0-bb9b-dfd7506570cf"
      },
      "source": [
        "#Define Path for train data and test data\n",
        "train_dir = 'drive/My Drive/PG AI ML/HumanHorseCNN/Train'\n",
        "validation_dir = 'drive/My Drive/PG AI ML/HumanHorseCNN/Validation/'\n",
        "\n",
        "\n",
        "model = tf.keras.models.Sequential([\n",
        "    tf.keras.layers.Conv2D(32, (3,3), activation='relu', input_shape=(150, 150, 3)),\n",
        "    tf.keras.layers.MaxPooling2D(2, 2),\n",
        "    tf.keras.layers.Conv2D(64, (3,3), activation='relu'),\n",
        "    tf.keras.layers.MaxPooling2D(2,2),\n",
        "    tf.keras.layers.Conv2D(128, (3,3), activation='relu'),\n",
        "    tf.keras.layers.MaxPooling2D(2,2),\n",
        "    tf.keras.layers.Conv2D(128, (3,3), activation='relu'),\n",
        "    tf.keras.layers.MaxPooling2D(2,2),\n",
        "    tf.keras.layers.Flatten(),\n",
        "    tf.keras.layers.Dense(512, activation='relu'),\n",
        "    tf.keras.layers.Dense(1, activation='sigmoid')\n",
        "])\n",
        "\n",
        "model.compile(loss='binary_crossentropy',\n",
        "              optimizer=RMSprop(lr=1e-4),\n",
        "              metrics=['acc'])\n",
        "\n",
        "# All images will be rescaled by 1./255\n",
        "train_datagen = ImageDataGenerator(rescale=1./255)\n",
        "test_datagen = ImageDataGenerator(rescale=1./255)\n",
        "\n",
        "# Flow training images in batches of 20 using train_datagen generator\n",
        "train_generator = train_datagen.flow_from_directory(\n",
        "        train_dir,  # This is the source directory for training images\n",
        "        target_size=(150, 150),  # All images will be resized to 150x150\n",
        "        batch_size=20,\n",
        "        # Since we use binary_crossentropy loss, we need binary labels\n",
        "        class_mode='binary')\n",
        "\n",
        "# Flow validation images in batches of 20 using test_datagen generator\n",
        "validation_generator = test_datagen.flow_from_directory(\n",
        "        validation_dir,\n",
        "        target_size=(150, 150),\n",
        "        batch_size=20,\n",
        "        class_mode='binary')\n",
        "\n",
        "myR2ScoreMonitor = MyThresholdCallback(cl=0.80)\n",
        "\n",
        "history = model.fit_generator(\n",
        "      train_generator,\n",
        "      steps_per_epoch=50, \n",
        "      epochs=20,\n",
        "      callbacks= [myR2ScoreMonitor],\n",
        "      validation_data=validation_generator,\n",
        "      validation_steps=12,  \n",
        "      verbose=2)"
      ],
      "execution_count": 12,
      "outputs": [
        {
          "output_type": "stream",
          "text": [
            "Found 1027 images belonging to 2 classes.\n",
            "Found 256 images belonging to 2 classes.\n",
            "WARNING:tensorflow:From <ipython-input-12-f04e89c51fd3>:52: Model.fit_generator (from tensorflow.python.keras.engine.training) is deprecated and will be removed in a future version.\n",
            "Instructions for updating:\n",
            "Please use Model.fit, which supports generators.\n",
            "Epoch 1/20\n",
            "50/50 - 9s - loss: 0.4701 - acc: 0.7923 - val_loss: 0.4974 - val_acc: 0.8375\n"
          ],
          "name": "stdout"
        }
      ]
    },
    {
      "cell_type": "code",
      "metadata": {
        "id": "8gD-ZamxzKP8",
        "colab_type": "code",
        "colab": {
          "base_uri": "https://localhost:8080/",
          "height": 298
        },
        "outputId": "a6284888-38a9-4a73-a92c-98c6c3a543fb"
      },
      "source": [
        "import matplotlib.pyplot as plt\n",
        "acc = history.history['acc']\n",
        "val_acc = history.history['val_acc']\n",
        "\n",
        "\n",
        "epochs = range(len(acc))\n",
        "\n",
        "plt.plot(epochs, acc, 'bo', label='Training accuracy')\n",
        "plt.plot(epochs, val_acc, 'b', label='Validation accuracy')\n",
        "plt.title('Training and validation accuracy')"
      ],
      "execution_count": 13,
      "outputs": [
        {
          "output_type": "execute_result",
          "data": {
            "text/plain": [
              "Text(0.5, 1.0, 'Training and validation accuracy')"
            ]
          },
          "metadata": {
            "tags": []
          },
          "execution_count": 13
        },
        {
          "output_type": "display_data",
          "data": {
            "image/png": "[encoded data removed]",
            "text/plain": [
              "<Figure size 432x288 with 1 Axes>"
            ]
          },
          "metadata": {
            "tags": [],
            "needs_background": "light"
          }
        }
      ]
    },
    {
      "cell_type": "code",
      "metadata": {
        "id": "9FQV9tzDk0qR",
        "colab_type": "code",
        "colab": {
          "base_uri": "https://localhost:8080/",
          "height": 162
        },
        "outputId": "b0706544-4c6d-4162-e191-295aeb6360c8"
      },
      "source": [
        "img = tf.keras.preprocessing.image.load_img('drive/My Drive/PG AI ML/HumanHorseCNN/Validation/horses/horse2-040.png', target_size=(128,128))\n",
        "imgArray = tf.keras.preprocessing.image.img_to_array(img)\n",
        "compatibleImgArray = np.expand_dims(imgArray, axis=0)\n",
        "imageData = np.vstack([compatibleImgArray])\n",
        "if classifier.predict(imageData) == 0:\n",
        "    print('Its a Horse')\n",
        "else:\n",
        "    print('Its a Human')\n",
        "\n",
        "img"
      ],
      "execution_count": 14,
      "outputs": [
        {
          "output_type": "stream",
          "text": [
            "Its a Human\n"
          ],
          "name": "stdout"
        },
        {
          "output_type": "execute_result",
          "data": {
            "image/png": "[encoded data removed]",
            "text/plain": [
              "<PIL.Image.Image image mode=RGB size=128x128 at 0x7F5D2023E710>"
            ]
          },
          "metadata": {
            "tags": []
          },
          "execution_count": 14
        }
      ]
    },
    {
      "cell_type": "markdown",
      "metadata": {
        "id": "9nuC-ZHj1Z19",
        "colab_type": "text"
      },
      "source": [
        "## **Test 2**"
      ]
    },
    {
      "cell_type": "code",
      "metadata": {
        "id": "x06BrJhLF_5d",
        "colab_type": "code",
        "colab": {}
      },
      "source": [
        "#Custom Callback\n",
        "class MyThresholdCallback(tf.keras.callbacks.Callback):\n",
        " def __init__(self, cl):\n",
        "   super(MyThresholdCallback, self).__init__()\n",
        "   self.cl = cl\n",
        "\n",
        " def on_epoch_end(self, epoch, logs=None):\n",
        "   test_score = logs[\"val_acc\"]\n",
        "   train_score = logs[\"acc\"]\n",
        "   if test_score > train_score and test_score > self.cl:\n",
        "     self.model.stop_training = True"
      ],
      "execution_count": 15,
      "outputs": []
    },
    {
      "cell_type": "code",
      "metadata": {
        "colab_type": "code",
        "id": "hGTfYzcJ1NIX",
        "colab": {
          "base_uri": "https://localhost:8080/",
          "height": 941
        },
        "outputId": "518d250f-dc06-40dd-eb43-7823fd896f86"
      },
      "source": [
        "tf.random.set_seed(2800)\n",
        "np.random.seed(28000)\n",
        "\n",
        "model = tf.keras.models.Sequential([\n",
        "    tf.keras.layers.Conv2D(32, (3,3), activation='relu', input_shape=(150, 150, 3)),\n",
        "    tf.keras.layers.MaxPooling2D(2, 2),\n",
        "    tf.keras.layers.Conv2D(64, (3,3), activation='relu'),\n",
        "    tf.keras.layers.MaxPooling2D(2,2),\n",
        "    tf.keras.layers.Conv2D(128, (3,3), activation='relu'),\n",
        "    tf.keras.layers.MaxPooling2D(2,2),\n",
        "    tf.keras.layers.Conv2D(128, (3,3), activation='relu'),\n",
        "    tf.keras.layers.MaxPooling2D(2,2),\n",
        "    tf.keras.layers.Flatten(),\n",
        "    tf.keras.layers.Dense(512, activation='relu'),\n",
        "    tf.keras.layers.Dense(1, activation='sigmoid')\n",
        "])\n",
        "\n",
        "model.compile(loss='binary_crossentropy',\n",
        "              optimizer=tf.keras.optimizers.Adagrad(learning_rate=0.1),\n",
        "              #optimizer=tf.keras.optimizers.Adam(learning_rate=0.1),\n",
        "              metrics=['acc'])\n",
        "\n",
        "\n",
        "# This code has changed. Now instead of the ImageGenerator just rescaling\n",
        "# the image, we also rotate and do other operations\n",
        "# Updated to do image augmentation\n",
        "train_datagen = ImageDataGenerator(\n",
        "      rescale=1./255,\n",
        "      rotation_range=40,\n",
        "      width_shift_range=0.2,\n",
        "      height_shift_range=0.2,\n",
        "      shear_range=0.2,\n",
        "      zoom_range=0.2,\n",
        "      horizontal_flip=True,\n",
        "      fill_mode='nearest')\n",
        "\n",
        "test_datagen = ImageDataGenerator(rescale=1./255)\n",
        "\n",
        "# Flow training images in batches of 20 using train_datagen generator\n",
        "train_generator = train_datagen.flow_from_directory(\n",
        "        train_dir,  # This is the source directory for training images\n",
        "        target_size=(150, 150),  # All images will be resized to 150x150\n",
        "        batch_size=20,\n",
        "        # Since we use binary_crossentropy loss, we need binary labels\n",
        "        class_mode='binary')\n",
        "\n",
        "# Flow validation images in batches of 20 using test_datagen generator\n",
        "validation_generator = test_datagen.flow_from_directory(\n",
        "        test_dir,\n",
        "        target_size=(150, 150),\n",
        "        batch_size=20,\n",
        "        class_mode='binary')\n",
        "\n",
        "myR2ScoreMonitor = MyThresholdCallback(cl=0.90)\n",
        "\n",
        "history = model.fit(\n",
        "      train_generator,\n",
        "      validation_data=validation_generator,\n",
        "      steps_per_epoch=50,  # 2000 images = batch_size * steps\n",
        "      epochs=50,\n",
        "      callbacks= [myR2ScoreMonitor],\n",
        "      validation_steps=12,  # 1000 images = batch_size * steps\n",
        "      verbose=2)\n"
      ],
      "execution_count": 16,
      "outputs": [
        {
          "output_type": "stream",
          "text": [
            "Found 1027 images belonging to 2 classes.\n",
            "Found 256 images belonging to 2 classes.\n",
            "Epoch 1/50\n",
            "50/50 - 14s - loss: 0.6963 - acc: 0.4944 - val_loss: 0.6865 - val_acc: 0.5042\n",
            "Epoch 2/50\n",
            "50/50 - 14s - loss: 0.7115 - acc: 0.5451 - val_loss: 0.6945 - val_acc: 0.4875\n",
            "Epoch 3/50\n",
            "50/50 - 14s - loss: 0.6943 - acc: 0.5279 - val_loss: 0.6903 - val_acc: 0.4958\n",
            "Epoch 4/50\n",
            "50/50 - 14s - loss: 0.6832 - acc: 0.5441 - val_loss: 0.6920 - val_acc: 0.5042\n",
            "Epoch 5/50\n",
            "50/50 - 14s - loss: 0.6927 - acc: 0.5268 - val_loss: 0.6907 - val_acc: 0.5417\n",
            "Epoch 6/50\n",
            "50/50 - 14s - loss: 0.6891 - acc: 0.5491 - val_loss: 0.6900 - val_acc: 0.5083\n",
            "Epoch 7/50\n",
            "50/50 - 14s - loss: 0.6897 - acc: 0.5491 - val_loss: 0.6934 - val_acc: 0.5042\n",
            "Epoch 8/50\n",
            "50/50 - 14s - loss: 0.6931 - acc: 0.5177 - val_loss: 0.6949 - val_acc: 0.5042\n",
            "Epoch 9/50\n",
            "50/50 - 14s - loss: 0.6771 - acc: 0.5674 - val_loss: 0.7919 - val_acc: 0.5083\n",
            "Epoch 10/50\n",
            "50/50 - 14s - loss: 0.6912 - acc: 0.5603 - val_loss: 0.6895 - val_acc: 0.5083\n",
            "Epoch 11/50\n",
            "50/50 - 14s - loss: 0.6615 - acc: 0.6565 - val_loss: 0.6978 - val_acc: 0.5000\n",
            "Epoch 12/50\n",
            "50/50 - 14s - loss: 0.7109 - acc: 0.5897 - val_loss: 0.6990 - val_acc: 0.5083\n",
            "Epoch 13/50\n",
            "50/50 - 15s - loss: 0.6932 - acc: 0.5056 - val_loss: 0.6935 - val_acc: 0.4958\n",
            "Epoch 14/50\n",
            "50/50 - 15s - loss: 0.6914 - acc: 0.5258 - val_loss: 0.6872 - val_acc: 0.5625\n",
            "Epoch 15/50\n",
            "50/50 - 14s - loss: 0.6593 - acc: 0.6454 - val_loss: 0.6804 - val_acc: 0.5792\n",
            "Epoch 16/50\n",
            "50/50 - 14s - loss: 0.6262 - acc: 0.6545 - val_loss: 0.6361 - val_acc: 0.8125\n",
            "Epoch 17/50\n",
            "50/50 - 14s - loss: 0.6525 - acc: 0.6282 - val_loss: 0.6779 - val_acc: 0.5333\n",
            "Epoch 18/50\n",
            "50/50 - 14s - loss: 0.6060 - acc: 0.6829 - val_loss: 0.7029 - val_acc: 0.5083\n",
            "Epoch 19/50\n",
            "50/50 - 14s - loss: 0.6001 - acc: 0.6920 - val_loss: 0.5886 - val_acc: 0.6750\n",
            "Epoch 20/50\n",
            "50/50 - 14s - loss: 0.6194 - acc: 0.6606 - val_loss: 0.5639 - val_acc: 0.7583\n",
            "Epoch 21/50\n",
            "50/50 - 14s - loss: 0.5371 - acc: 0.7416 - val_loss: 0.4060 - val_acc: 0.8875\n",
            "Epoch 22/50\n",
            "50/50 - 14s - loss: 0.5100 - acc: 0.7487 - val_loss: 0.4476 - val_acc: 0.6958\n",
            "Epoch 23/50\n",
            "50/50 - 14s - loss: 0.4134 - acc: 0.8075 - val_loss: 1.5761 - val_acc: 0.4833\n",
            "Epoch 24/50\n",
            "50/50 - 14s - loss: 0.4148 - acc: 0.8267 - val_loss: 0.3470 - val_acc: 0.7917\n",
            "Epoch 25/50\n",
            "50/50 - 14s - loss: 0.3998 - acc: 0.8247 - val_loss: 0.3314 - val_acc: 0.9167\n"
          ],
          "name": "stdout"
        }
      ]
    },
    {
      "cell_type": "code",
      "metadata": {
        "id": "l3ODHGW-1vUE",
        "colab_type": "code",
        "colab": {
          "base_uri": "https://localhost:8080/",
          "height": 298
        },
        "outputId": "7279ba78-2021-4175-e4fe-981cfca9d99c"
      },
      "source": [
        "import matplotlib.pyplot as plt\n",
        "acc = history.history['acc']\n",
        "val_acc = history.history['val_acc']\n",
        "\n",
        "\n",
        "epochs = range(len(acc))\n",
        "\n",
        "plt.plot(epochs, acc, 'bo', label='Training accuracy')\n",
        "plt.plot(epochs, val_acc, 'b', label='Validation accuracy')\n",
        "plt.title('Training and validation accuracy')"
      ],
      "execution_count": 17,
      "outputs": [
        {
          "output_type": "execute_result",
          "data": {
            "text/plain": [
              "Text(0.5, 1.0, 'Training and validation accuracy')"
            ]
          },
          "metadata": {
            "tags": []
          },
          "execution_count": 17
        },
        {
          "output_type": "display_data",
          "data": {
            "image/png": "[encoded data removed]",
            "text/plain": [
              "<Figure size 432x288 with 1 Axes>"
            ]
          },
          "metadata": {
            "tags": [],
            "needs_background": "light"
          }
        }
      ]
    },
    {
      "cell_type": "code",
      "metadata": {
        "colab_type": "code",
        "id": "D4qZQdb3_7tE",
        "colab": {
          "base_uri": "https://localhost:8080/",
          "height": 162
        },
        "outputId": "7cfccdba-f156-4a57-9a93-e170a670419f"
      },
      "source": [
        "img = tf.keras.preprocessing.image.load_img('drive/My Drive/PG AI ML/HumanHorseCNN/Validation/humans/valhuman01-06.png', target_size=(128,128))\n",
        "imgArray = tf.keras.preprocessing.image.img_to_array(img)\n",
        "compatibleImgArray = np.expand_dims(imgArray, axis=0)\n",
        "imageData = np.vstack([compatibleImgArray])\n",
        "if classifier.predict_classes(imageData) == 0:\n",
        "    print('Horse')\n",
        "else:\n",
        "    print('Human')\n",
        "\n",
        "img"
      ],
      "execution_count": 18,
      "outputs": [
        {
          "output_type": "stream",
          "text": [
            "Human\n"
          ],
          "name": "stdout"
        },
        {
          "output_type": "execute_result",
          "data": {
            "image/png": "[encoded data removed]",
            "text/plain": [
              "<PIL.Image.Image image mode=RGB size=128x128 at 0x7F5CD74D97F0>"
            ]
          },
          "metadata": {
            "tags": []
          },
          "execution_count": 18
        }
      ]
    },
    {
      "cell_type": "code",
      "metadata": {
        "id": "Xi_svQJP1ox6",
        "colab_type": "code",
        "colab": {
          "base_uri": "https://localhost:8080/",
          "height": 232
        },
        "outputId": "7b5d29cf-dab3-412c-8ca9-8d4e0d02650c"
      },
      "source": [
        "from sklearn.metrics import confusion_matrix\n",
        "from sklearn.metrics import classification_report\n",
        "import numpy as np\n",
        "from sklearn import metrics\n",
        "\n",
        "predictions = model.predict_generator(validation_generator)\n",
        "predicted_classes = np.argmax(predictions, axis=1) \n",
        "\n",
        "true_classes = validation_generator.classes\n",
        "class_labels = list(validation_generator.class_indices.keys()) \n",
        "\n",
        "report = metrics.classification_report(true_classes, predicted_classes, target_names=class_labels)\n",
        "print(report)  "
      ],
      "execution_count": 27,
      "outputs": [
        {
          "output_type": "stream",
          "text": [
            "              precision    recall  f1-score   support\n",
            "\n",
            "      horses       0.50      1.00      0.67       128\n",
            "      humans       0.00      0.00      0.00       128\n",
            "\n",
            "    accuracy                           0.50       256\n",
            "   macro avg       0.25      0.50      0.33       256\n",
            "weighted avg       0.25      0.50      0.33       256\n",
            "\n"
          ],
          "name": "stdout"
        },
        {
          "output_type": "stream",
          "text": [
            "/usr/local/lib/python3.6/dist-packages/sklearn/metrics/_classification.py:1272: UndefinedMetricWarning: Precision and F-score are ill-defined and being set to 0.0 in labels with no predicted samples. Use `zero_division` parameter to control this behavior.\n",
            "  _warn_prf(average, modifier, msg_start, len(result))\n"
          ],
          "name": "stderr"
        }
      ]
    },
    {
      "cell_type": "code",
      "metadata": {
        "id": "b2BCSx0s1qkO",
        "colab_type": "code",
        "colab": {
          "base_uri": "https://localhost:8080/",
          "height": 350
        },
        "outputId": "fbcf5f49-31d8-4b79-e8f4-5ed7b6ff3ed7"
      },
      "source": [
        "import seaborn as sns\n",
        "\n",
        "#Plotting Confusion Matrix graph\n",
        "ax= plt.subplot()\n",
        "sns.heatmap(confusion_matrix(true_classes,predicted_classes), annot=True, ax = ax, fmt='g', cmap='Greens'); #annot=True to annotate cells\n",
        "ax.set_xlabel('Predicted labels');ax.set_ylabel('True labels'); \n",
        "ax.set_title('Confusion Matrix'); \n",
        "ax.xaxis.set_ticklabels([0,1]); ax.yaxis.set_ticklabels([0,1]);"
      ],
      "execution_count": 29,
      "outputs": [
        {
          "output_type": "stream",
          "text": [
            "/usr/local/lib/python3.6/dist-packages/statsmodels/tools/_testing.py:19: FutureWarning: pandas.util.testing is deprecated. Use the functions in the public API at pandas.testing instead.\n",
            "  import pandas.util.testing as tm\n"
          ],
          "name": "stderr"
        },
        {
          "output_type": "display_data",
          "data": {
            "image/png": "[encoded data removed]",
            "text/plain": [
              "<Figure size 432x288 with 2 Axes>"
            ]
          },
          "metadata": {
            "tags": [],
            "needs_background": "light"
          }
        }
      ]
    },
    {
      "cell_type": "code",
      "metadata": {
        "id": "wh9UeLux1sHy",
        "colab_type": "code",
        "colab": {
          "base_uri": "https://localhost:8080/",
          "height": 232
        },
        "outputId": "1cee3dfc-a6e9-444e-fba5-c82158e6fc9d"
      },
      "source": [
        "print(classification_report(true_classes,predicted_classes))"
      ],
      "execution_count": 30,
      "outputs": [
        {
          "output_type": "stream",
          "text": [
            "              precision    recall  f1-score   support\n",
            "\n",
            "           0       0.50      1.00      0.67       128\n",
            "           1       0.00      0.00      0.00       128\n",
            "\n",
            "    accuracy                           0.50       256\n",
            "   macro avg       0.25      0.50      0.33       256\n",
            "weighted avg       0.25      0.50      0.33       256\n",
            "\n"
          ],
          "name": "stdout"
        },
        {
          "output_type": "stream",
          "text": [
            "/usr/local/lib/python3.6/dist-packages/sklearn/metrics/_classification.py:1272: UndefinedMetricWarning: Precision and F-score are ill-defined and being set to 0.0 in labels with no predicted samples. Use `zero_division` parameter to control this behavior.\n",
            "  _warn_prf(average, modifier, msg_start, len(result))\n"
          ],
          "name": "stderr"
        }
      ]
    },
    {
      "cell_type": "code",
      "metadata": {
        "id": "0OPsRSt8FC9Q",
        "colab_type": "code",
        "colab": {}
      },
      "source": [
        ""
      ],
      "execution_count": null,
      "outputs": []
    }
  ]
}